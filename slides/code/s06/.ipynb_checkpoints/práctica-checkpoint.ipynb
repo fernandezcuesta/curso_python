{
 "cells": [
  {
   "cell_type": "code",
   "execution_count": 2,
   "metadata": {},
   "outputs": [],
   "source": [
    "%matplotlib inline"
   ]
  },
  {
   "cell_type": "code",
   "execution_count": 3,
   "metadata": {},
   "outputs": [],
   "source": [
    "import matplotlib.pyplot as plt\n",
    "import numpy as np\n",
    "import pandas as pd\n",
    "import seaborn as sns\n",
    "\n",
    "sns.set()\n",
    "plt.rcParams['figure.figsize'] = [20.0, 10.0]\n",
    "sns.set_context('talk')  # fuentes más grandes"
   ]
  },
  {
   "cell_type": "markdown",
   "metadata": {},
   "source": [
    "### Cambiar el origen de los datos a local (`03009sc.csv`) en caso de problemas de conectividad"
   ]
  },
  {
   "cell_type": "code",
   "execution_count": 4,
   "metadata": {},
   "outputs": [],
   "source": [
    "csv_datos = 'http://www.ine.es/jaxi/files/_px/es/csv_sc/t20/e301/provi/03009.csv_sc'\n",
    "# csv_datos = '03009sc.csv'"
   ]
  },
  {
   "cell_type": "code",
   "execution_count": 5,
   "metadata": {},
   "outputs": [],
   "source": [
    "marriages = pd.read_csv(csv_datos,\n",
    "                        sep=';', encoding='utf-8',\n",
    "                        na_values='..',\n",
    "                        header=[4, 5], index_col=0)[:-2]\n",
    "marriages.drop(marriages.columns[-1], axis=1, inplace=True)\n",
    "\n",
    "meses = marriages.columns.get_level_values(0)[0::5].values.repeat(5)\n",
    "marriages.columns = pd.MultiIndex.from_tuples(zip(meses, marriages.columns.get_level_values(1)))\n",
    "\n",
    "uniprovinciales = ['Cantabria', 'Rioja, La', 'Murcia', 'Asturias', 'Navarra', 'Balears, Illes', 'Madrid']\n",
    "provincias_g = ['Gipuzkoa', 'Girona', 'Cádiz', 'Granada', 'Guadalajara']\n",
    "\n",
    "df = marriages.Total.loc[uniprovinciales]"
   ]
  },
  {
   "cell_type": "code",
   "execution_count": null,
   "metadata": {},
   "outputs": [],
   "source": []
  },
  {
   "cell_type": "markdown",
   "metadata": {},
   "source": [
    "## 1 - Crea una figura con 2 subplots (uno junto al otro) y dibuja los gráficos de barras para `uniprovinciales` y `provincias_g`"
   ]
  },
  {
   "cell_type": "code",
   "execution_count": null,
   "metadata": {},
   "outputs": [],
   "source": []
  },
  {
   "cell_type": "markdown",
   "metadata": {},
   "source": [
    "## 2 - Representa la evolución anual para cada provincia de (`datos_meses`)\n",
    "\n",
    "- Eje 'x': tiempo\n",
    "- Eje 'y': Total de matrimonios\n",
    "- **`[BONUS #1]`**: Excluir datos de la Comunidad de Madrid\n",
    "- **`[BONUS #2]`** Estilo de línea: contínua con marcadores en 'v'"
   ]
  },
  {
   "cell_type": "code",
   "execution_count": 6,
   "metadata": {},
   "outputs": [],
   "source": [
    "df = marriages.loc[uniprovinciales]\n",
    "datos_meses = df.iloc[:, df.columns.get_level_values(1)=='Total']  # solo matrimonios totales\n",
    "datos_meses = datos_meses.drop(datos_meses.columns[-1], axis=1)  # elimina suma anual\n",
    "datos_meses.columns = datos_meses.columns.get_level_values(0)  # elimina multiindex en columnas"
   ]
  },
  {
   "cell_type": "code",
   "execution_count": null,
   "metadata": {},
   "outputs": [],
   "source": []
  },
  {
   "cell_type": "markdown",
   "metadata": {},
   "source": [
    "### 2.2 Repetir con un gráfico por provincia colocadas una junto a la otra (usar `layout`)"
   ]
  },
  {
   "cell_type": "code",
   "execution_count": null,
   "metadata": {},
   "outputs": [],
   "source": []
  },
  {
   "cell_type": "markdown",
   "metadata": {},
   "source": [
    "## 3 - Mismo gráfico que en `2.2`, pero compartiendo el eje 'y'\n",
    "\n",
    "- **`[BONUS #1]`**: excluir datos de la Comunidad de Madrid\n",
    "- **`[BONUS #2]`**: dibujar una marca en el eje de abcisas cada 3 meses"
   ]
  },
  {
   "cell_type": "code",
   "execution_count": null,
   "metadata": {},
   "outputs": [],
   "source": []
  },
  {
   "cell_type": "markdown",
   "metadata": {},
   "source": [
    "## 4 - Nombrar cada gráfico de (3) con un título\n",
    "\n",
    "- **`[BONUS]`**: Establecer una nota (título) global para toda la figura\n",
    "  `plt.gca().get_figure()` obtiene la referencia a la figura"
   ]
  },
  {
   "cell_type": "code",
   "execution_count": null,
   "metadata": {},
   "outputs": [],
   "source": []
  },
  {
   "cell_type": "markdown",
   "metadata": {},
   "source": [
    "## 5 - Crear un gráfico de área con los datos de Cantabria\n",
    "\n",
    "- Establecer un tamaño de 12 pulgadas de ancho por 8 de alto\n",
    "- Excluir la columna de datos totales"
   ]
  },
  {
   "cell_type": "code",
   "execution_count": 7,
   "metadata": {},
   "outputs": [
    {
     "data": {
      "text/html": [
       "<div>\n",
       "<style scoped>\n",
       "    .dataframe tbody tr th:only-of-type {\n",
       "        vertical-align: middle;\n",
       "    }\n",
       "\n",
       "    .dataframe tbody tr th {\n",
       "        vertical-align: top;\n",
       "    }\n",
       "\n",
       "    .dataframe thead th {\n",
       "        text-align: right;\n",
       "    }\n",
       "</style>\n",
       "<table border=\"1\" class=\"dataframe\">\n",
       "  <thead>\n",
       "    <tr style=\"text-align: right;\">\n",
       "      <th></th>\n",
       "      <th>Exclusivamente civil</th>\n",
       "      <th>No consta</th>\n",
       "      <th>Según la religión católica</th>\n",
       "      <th>Según otra religión</th>\n",
       "      <th>Total</th>\n",
       "    </tr>\n",
       "  </thead>\n",
       "  <tbody>\n",
       "    <tr>\n",
       "      <th>Enero</th>\n",
       "      <td>40.0</td>\n",
       "      <td>3.0</td>\n",
       "      <td>2.0</td>\n",
       "      <td>1.0</td>\n",
       "      <td>46.0</td>\n",
       "    </tr>\n",
       "    <tr>\n",
       "      <th>Febrero</th>\n",
       "      <td>54.0</td>\n",
       "      <td>4.0</td>\n",
       "      <td>2.0</td>\n",
       "      <td>1.0</td>\n",
       "      <td>61.0</td>\n",
       "    </tr>\n",
       "    <tr>\n",
       "      <th>Marzo</th>\n",
       "      <td>88.0</td>\n",
       "      <td>10.0</td>\n",
       "      <td>8.0</td>\n",
       "      <td>1.0</td>\n",
       "      <td>107.0</td>\n",
       "    </tr>\n",
       "    <tr>\n",
       "      <th>Abril</th>\n",
       "      <td>82.0</td>\n",
       "      <td>7.0</td>\n",
       "      <td>16.0</td>\n",
       "      <td>NaN</td>\n",
       "      <td>105.0</td>\n",
       "    </tr>\n",
       "    <tr>\n",
       "      <th>Mayo</th>\n",
       "      <td>134.0</td>\n",
       "      <td>13.0</td>\n",
       "      <td>25.0</td>\n",
       "      <td>1.0</td>\n",
       "      <td>173.0</td>\n",
       "    </tr>\n",
       "    <tr>\n",
       "      <th>Junio</th>\n",
       "      <td>193.0</td>\n",
       "      <td>12.0</td>\n",
       "      <td>51.0</td>\n",
       "      <td>2.0</td>\n",
       "      <td>258.0</td>\n",
       "    </tr>\n",
       "    <tr>\n",
       "      <th>Julio</th>\n",
       "      <td>191.0</td>\n",
       "      <td>21.0</td>\n",
       "      <td>89.0</td>\n",
       "      <td>1.0</td>\n",
       "      <td>302.0</td>\n",
       "    </tr>\n",
       "    <tr>\n",
       "      <th>Agosto</th>\n",
       "      <td>152.0</td>\n",
       "      <td>22.0</td>\n",
       "      <td>66.0</td>\n",
       "      <td>1.0</td>\n",
       "      <td>241.0</td>\n",
       "    </tr>\n",
       "    <tr>\n",
       "      <th>Septiembre</th>\n",
       "      <td>232.0</td>\n",
       "      <td>11.0</td>\n",
       "      <td>115.0</td>\n",
       "      <td>5.0</td>\n",
       "      <td>363.0</td>\n",
       "    </tr>\n",
       "    <tr>\n",
       "      <th>Octubre</th>\n",
       "      <td>172.0</td>\n",
       "      <td>21.0</td>\n",
       "      <td>53.0</td>\n",
       "      <td>NaN</td>\n",
       "      <td>246.0</td>\n",
       "    </tr>\n",
       "    <tr>\n",
       "      <th>Noviembre</th>\n",
       "      <td>77.0</td>\n",
       "      <td>13.0</td>\n",
       "      <td>11.0</td>\n",
       "      <td>1.0</td>\n",
       "      <td>102.0</td>\n",
       "    </tr>\n",
       "    <tr>\n",
       "      <th>Diciembre</th>\n",
       "      <td>95.0</td>\n",
       "      <td>7.0</td>\n",
       "      <td>9.0</td>\n",
       "      <td>NaN</td>\n",
       "      <td>111.0</td>\n",
       "    </tr>\n",
       "  </tbody>\n",
       "</table>\n",
       "</div>"
      ],
      "text/plain": [
       "            Exclusivamente civil  No consta  Según la religión católica  \\\n",
       "Enero                       40.0        3.0                         2.0   \n",
       "Febrero                     54.0        4.0                         2.0   \n",
       "Marzo                       88.0       10.0                         8.0   \n",
       "Abril                       82.0        7.0                        16.0   \n",
       "Mayo                       134.0       13.0                        25.0   \n",
       "Junio                      193.0       12.0                        51.0   \n",
       "Julio                      191.0       21.0                        89.0   \n",
       "Agosto                     152.0       22.0                        66.0   \n",
       "Septiembre                 232.0       11.0                       115.0   \n",
       "Octubre                    172.0       21.0                        53.0   \n",
       "Noviembre                   77.0       13.0                        11.0   \n",
       "Diciembre                   95.0        7.0                         9.0   \n",
       "\n",
       "            Según otra religión  Total  \n",
       "Enero                       1.0   46.0  \n",
       "Febrero                     1.0   61.0  \n",
       "Marzo                       1.0  107.0  \n",
       "Abril                       NaN  105.0  \n",
       "Mayo                        1.0  173.0  \n",
       "Junio                       2.0  258.0  \n",
       "Julio                       1.0  302.0  \n",
       "Agosto                      1.0  241.0  \n",
       "Septiembre                  5.0  363.0  \n",
       "Octubre                     NaN  246.0  \n",
       "Noviembre                   1.0  102.0  \n",
       "Diciembre                   NaN  111.0  "
      ]
     },
     "execution_count": 7,
     "metadata": {},
     "output_type": "execute_result"
    }
   ],
   "source": [
    "datos_cantabria = marriages.loc['Cantabria'].drop('Total', level=0)\n",
    "datos_cantabria = datos_cantabria.unstack().reindex(pd.unique(datos_cantabria.index.get_level_values(0)))\n",
    "datos_cantabria"
   ]
  },
  {
   "cell_type": "code",
   "execution_count": null,
   "metadata": {},
   "outputs": [],
   "source": []
  },
  {
   "cell_type": "markdown",
   "metadata": {},
   "source": [
    "## 6 - Repetir el gráfico anterior sin datos apilados\n",
    "\n",
    "- Datos apilados por defecto"
   ]
  },
  {
   "cell_type": "code",
   "execution_count": null,
   "metadata": {},
   "outputs": [],
   "source": []
  },
  {
   "cell_type": "markdown",
   "metadata": {},
   "source": [
    "## 7 - Crear un diagrama de cajas (`boxplot`) sin cuadrícula\n",
    "\n",
    "- Usar un tamaño de 8 por 6 pulgadas"
   ]
  },
  {
   "cell_type": "code",
   "execution_count": null,
   "metadata": {},
   "outputs": [],
   "source": []
  },
  {
   "cell_type": "markdown",
   "metadata": {},
   "source": [
    "## 8 - Repetir el diagrama anterior girando los valores del eje 'x'"
   ]
  },
  {
   "cell_type": "code",
   "execution_count": null,
   "metadata": {},
   "outputs": [],
   "source": []
  },
  {
   "cell_type": "markdown",
   "metadata": {},
   "source": [
    "## 9 - Ajustar los ejes en el gráfico generado en `2`\n",
    "\n",
    "- Eje 'x' entre 0 y 11 (0=Enero, 11=Diciembre)\n",
    "- Eje 'y' entre 0 y 1000\n",
    "- Sin cuadrícula\n",
    "- **`[BONUS]`**: Leyenda en la parte superior izquierda\n",
    "- **`[BONUS]`**: añadir marcas en el eje 'x' cada 2 meses"
   ]
  },
  {
   "cell_type": "code",
   "execution_count": null,
   "metadata": {},
   "outputs": [],
   "source": []
  },
  {
   "cell_type": "markdown",
   "metadata": {},
   "source": [
    "\n",
    "## 10 - Cambiar el mapa de colores del gráfico anterior"
   ]
  },
  {
   "cell_type": "code",
   "execution_count": 62,
   "metadata": {},
   "outputs": [
    {
     "name": "stdout",
     "output_type": "stream",
     "text": [
      "['Blues', 'BrBG', 'BuGn', 'BuPu', 'CMRmap', 'GnBu', 'Greens', 'Greys', 'OrRd', 'Oranges', 'PRGn', 'PiYG', 'PuBu', 'PuBuGn', 'PuOr', 'PuRd', 'Purples', 'RdBu', 'RdGy', 'RdPu', 'RdYlBu', 'RdYlGn', 'Reds', 'Spectral', 'Wistia', 'YlGn', 'YlGnBu', 'YlOrBr', 'YlOrRd', 'afmhot', 'autumn', 'binary', 'bone', 'brg', 'bwr', 'cool', 'coolwarm', 'copper', 'cubehelix', 'flag', 'gist_earth', 'gist_gray', 'gist_heat', 'gist_ncar', 'gist_rainbow', 'gist_stern', 'gist_yarg', 'gnuplot', 'gnuplot2', 'gray', 'hot', 'hsv', 'jet', 'nipy_spectral', 'ocean', 'pink', 'prism', 'rainbow', 'seismic', 'spring', 'summer', 'terrain', 'winter', 'Accent', 'Dark2', 'Paired', 'Pastel1', 'Pastel2', 'Set1', 'Set2', 'Set3', 'tab10', 'tab20', 'tab20b', 'tab20c']\n"
     ]
    }
   ],
   "source": [
    "# Lista de mapas de colores disponibles\n",
    "# colores invertidos: nombre_r (ejemplo: 'Blues_r')\n",
    "\n",
    "print([cm for cm in plt.cm.datad if not cm.endswith(\"_r\")])"
   ]
  },
  {
   "cell_type": "code",
   "execution_count": null,
   "metadata": {},
   "outputs": [],
   "source": []
  },
  {
   "cell_type": "markdown",
   "metadata": {},
   "source": [
    "## 11 - Incluir los datos en el segundo gráfico generado en [1]\n",
    "\n",
    "- **`[BONUS]`**: Elimina los ticks del eje 'x' (`set_xticklabels()`)"
   ]
  },
  {
   "cell_type": "code",
   "execution_count": null,
   "metadata": {},
   "outputs": [],
   "source": []
  },
  {
   "cell_type": "markdown",
   "metadata": {},
   "source": [
    "# BONUS\n",
    "\n",
    "## Generar un gráfico circular con estilo 'xkcd' con los datos de Cantabria"
   ]
  },
  {
   "cell_type": "code",
   "execution_count": null,
   "metadata": {},
   "outputs": [],
   "source": []
  }
 ],
 "metadata": {
  "kernelspec": {
   "display_name": "Python 3",
   "language": "python",
   "name": "python3"
  },
  "language_info": {
   "codemirror_mode": {
    "name": "ipython",
    "version": 3
   },
   "file_extension": ".py",
   "mimetype": "text/x-python",
   "name": "python",
   "nbconvert_exporter": "python",
   "pygments_lexer": "ipython3",
   "version": "3.7.0"
  }
 },
 "nbformat": 4,
 "nbformat_minor": 2
}
