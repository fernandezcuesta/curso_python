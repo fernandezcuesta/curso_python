{
 "cells": [
  {
   "cell_type": "markdown",
   "metadata": {},
   "source": [
    "- `Ctrl+Intro`: ejecuta celda seleccionada\n",
    "- `Shift+Intro`: ejecuta celda seleccionada y pasa a la siguiente\n",
    "- `Alt+Intro`: inserta nueva celda"
   ]
  },
  {
   "cell_type": "code",
   "execution_count": null,
   "metadata": {},
   "outputs": [],
   "source": [
    "import os\n",
    "\n",
    "home = os.path.expanduser('~')  # directorio del usuario\n",
    "directorio_entorno = os.path.join(home,\n",
    "                                  'Anaconda3',\n",
    "                                  'envs',\n",
    "                                  'entorno-03')\n",
    "ficheros = []\n",
    "\n",
    "# Busca ficheros y guarda (nombre, tamaño)\n",
    "for f in os.listdir(directorio_entorno):\n",
    "    if os.path.isfile(f):\n",
    "        tamaño = os.stat(os.join(directorio_entorno), f).st_size\n",
    "        ficheros.append((f, tamaño))\n",
    "    "
   ]
  },
  {
   "cell_type": "code",
   "execution_count": null,
   "metadata": {},
   "outputs": [],
   "source": [
    "import pathlib\n",
    "from pathlib import Path\n",
    "\n",
    "\n",
    "home = Path.home()  # pathlib.Path.home()\n",
    "directorio_entorno = home / 'Anaconda3' / 'envs' / 'entorno-03'\n",
    "ficheros = [(f.name, f.stat().st_size)\n",
    "            for f in directorio_entorno.iterdir()\n",
    "            if f.is_file()]"
   ]
  },
  {
   "cell_type": "code",
   "execution_count": null,
   "metadata": {},
   "outputs": [],
   "source": [
    "import builtins\n",
    "import keyword"
   ]
  },
  {
   "cell_type": "code",
   "execution_count": null,
   "metadata": {},
   "outputs": [],
   "source": [
    "print(', '.join(keyword.kwlist))"
   ]
  },
  {
   "cell_type": "code",
   "execution_count": null,
   "metadata": {},
   "outputs": [],
   "source": [
    "print(dir(builtins))"
   ]
  },
  {
   "cell_type": "code",
   "execution_count": null,
   "metadata": {},
   "outputs": [],
   "source": [
    "import sys\n",
    "import math\n",
    "\n",
    "\n",
    "def area(radio):\n",
    "    return math.pi * (radio ** 2)\n",
    "\n",
    "def longitud(radio):\n",
    "    return 2 * math.pi * radio\n"
   ]
  },
  {
   "cell_type": "code",
   "execution_count": null,
   "metadata": {},
   "outputs": [],
   "source": [
    "radio = float(input())\n",
    "print(\"La longitud de una circunferencia de radio {}cm es {:.2f}cm^2.\"\n",
    "      .format(radio, longitud(radio)))\n",
    "print(\"El area de una circunferencia de radio {1}cm es {0:.2f}cm^2.\"\n",
    "      .format(area(radio), radio))"
   ]
  },
  {
   "cell_type": "code",
   "execution_count": null,
   "metadata": {},
   "outputs": [],
   "source": []
  }
 ],
 "metadata": {
  "kernelspec": {
   "display_name": "Python 3",
   "language": "python",
   "name": "python3"
  },
  "language_info": {
   "codemirror_mode": {
    "name": "ipython",
    "version": 3
   },
   "file_extension": ".py",
   "mimetype": "text/x-python",
   "name": "python",
   "nbconvert_exporter": "python",
   "pygments_lexer": "ipython3",
   "version": "3.7.0"
  }
 },
 "nbformat": 4,
 "nbformat_minor": 2
}
